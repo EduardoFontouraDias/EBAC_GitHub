{
  "nbformat": 4,
  "nbformat_minor": 0,
  "metadata": {
    "colab": {
      "provenance": []
    },
    "kernelspec": {
      "name": "python3",
      "display_name": "Python 3"
    },
    "language_info": {
      "name": "python"
    }
  },
  "cells": [
    {
      "cell_type": "code",
      "execution_count": 213,
      "metadata": {
        "id": "nW6TOVzNq1qE"
      },
      "outputs": [],
      "source": [
        "import requests, csv\n",
        "from requests.exceptions import HTTPError\n",
        "from bs4 import BeautifulSoup"
      ]
    },
    {
      "cell_type": "code",
      "source": [
        "#Acesso ao robots do site para verificação das permissões\n",
        "url_robots = 'https://github.com/robots.txt'\n",
        "\n",
        "teste = requests.get(url=url_robots)\n",
        "print(teste.text)"
      ],
      "metadata": {
        "colab": {
          "base_uri": "https://localhost:8080/"
        },
        "id": "xjCvbcr47t7q",
        "outputId": "6b5ee6e0-a1ee-42d7-a1de-da746192b472"
      },
      "execution_count": 255,
      "outputs": [
        {
          "output_type": "stream",
          "name": "stdout",
          "text": [
            "# If you would like to crawl GitHub contact us via https://support.github.com?tags=dotcom-robots\n",
            "# We also provide an extensive API: https://docs.github.com\n",
            "User-agent: baidu\n",
            "crawl-delay: 1\n",
            "\n",
            "\n",
            "User-agent: *\n",
            "\n",
            "Disallow: /*/pulse\n",
            "Disallow: /*/tree/\n",
            "Disallow: /gist/\n",
            "Disallow: /*/forks\n",
            "Disallow: /*/stars\n",
            "Disallow: /*/download\n",
            "Disallow: /*/revisions\n",
            "Disallow: /*/issues/new\n",
            "Disallow: /*/issues/search\n",
            "Disallow: /*/commits/\n",
            "Disallow: /*/commits/*?author\n",
            "Disallow: /*/commits/*?path\n",
            "Disallow: /*/branches\n",
            "Disallow: /*/tags\n",
            "Disallow: /*/contributors\n",
            "Disallow: /*/comments\n",
            "Disallow: /*/stargazers\n",
            "Disallow: /*/archive/\n",
            "Disallow: /*/blame/\n",
            "Disallow: /*/watchers\n",
            "Disallow: /*/network\n",
            "Disallow: /*/graphs\n",
            "Disallow: /*/raw/\n",
            "Disallow: /*/compare/\n",
            "Disallow: /*/cache/\n",
            "Disallow: /.git/\n",
            "Disallow: */.git/\n",
            "Disallow: /*.git$\n",
            "Disallow: /search/advanced\n",
            "Disallow: /search\n",
            "Disallow: */search\n",
            "Disallow: /*q=\n",
            "Disallow: /*.atom$\n",
            "\n",
            "Disallow: /ekansa/Open-Context-Data\n",
            "Disallow: /ekansa/opencontext-*\n",
            "Disallow: */tarball/\n",
            "Disallow: */zipball/\n",
            "\n",
            "Disallow: /*source=*\n",
            "Disallow: /*ref_cta=*\n",
            "Disallow: /*plan=*\n",
            "Disallow: /*return_to=*\n",
            "Disallow: /*ref_loc=*\n",
            "Disallow: /*setup_organization=*\n",
            "Disallow: /*source_repo=*\n",
            "Disallow: /*ref_page=*\n",
            "Disallow: /*source=*\n",
            "Disallow: /*referrer=*\n",
            "Disallow: /*report=*\n",
            "Disallow: /*author=*\n",
            "Disallow: /*since=*\n",
            "Disallow: /*until=*\n",
            "Disallow: /*commits?author=*\n",
            "Disallow: /*report-abuse?report=*\n",
            "Disallow: /*tab=*\n",
            "Allow: /*?tab=achievements&achievement=*\n",
            "\n",
            "Disallow: /account-login\n",
            "Disallow: /Explodingstuff/\n",
            "\n",
            "\n"
          ]
        }
      ]
    },
    {
      "cell_type": "code",
      "source": [
        "#Após verificação, acessaremos ao site e faremos a extração do conteudo html\n",
        "URL = 'https://github.com/trending'\n",
        "\n",
        "headers = {\n",
        "    'User-Agent': \"Mozilla/5.0 (Windows NT 10.0; Win64; x64) AppleWebKit/537.36 (KHTML, like Gecko) Chrome/118.0.0.0 Safari/537.36\"\n",
        "}\n",
        "\n",
        "conteudo=None\n",
        "\n",
        "try:\n",
        "  conteudo = requests.get(url=URL,headers=headers)\n",
        "  print(conteudo.status_code)\n",
        "  conteudo = conteudo.text\n",
        "except HTTPError:\n",
        "  print('Erro ao armazenar os dados')"
      ],
      "metadata": {
        "colab": {
          "base_uri": "https://localhost:8080/"
        },
        "id": "rUA3LjoptLqY",
        "outputId": "212b7982-41c6-4683-bf7d-cebc72159a32"
      },
      "execution_count": 248,
      "outputs": [
        {
          "output_type": "stream",
          "name": "stdout",
          "text": [
            "200\n"
          ]
        }
      ]
    },
    {
      "cell_type": "code",
      "source": [
        "#Salvaremos o arquivo html\n",
        "with open(file='githubtrending.html',mode='w',encoding='utf8') as arquivo:\n",
        "  arquivo.write(conteudo)\n",
        "  print('Arquivo salvo com sucesso em githubtrending.html')"
      ],
      "metadata": {
        "colab": {
          "base_uri": "https://localhost:8080/"
        },
        "id": "3lz0WBDIxSUO",
        "outputId": "c2fc11b6-61cf-4ddf-a90f-2122c4a5d079"
      },
      "execution_count": 249,
      "outputs": [
        {
          "output_type": "stream",
          "name": "stdout",
          "text": [
            "Arquivo salvo com sucesso em githubtrending.html\n"
          ]
        }
      ]
    },
    {
      "cell_type": "code",
      "source": [
        "#Será feito uma leitura da página com auxílio da biblioteca bs4\n",
        "pagina_git = BeautifulSoup(open(file='githubtrending.html',mode='r'),'html.parser')\n",
        "\n",
        "conteudo_extraido_git = []"
      ],
      "metadata": {
        "id": "cgAyrHav1oWf"
      },
      "execution_count": 250,
      "outputs": []
    },
    {
      "cell_type": "code",
      "source": [
        "#Será extraído uma lista para cada item solicitado\n",
        "ranking_git = []\n",
        "for ranking in range(1,11,1):\n",
        "  ranking_git.append(str(ranking))\n",
        "print(ranking_git)"
      ],
      "metadata": {
        "colab": {
          "base_uri": "https://localhost:8080/"
        },
        "id": "ksdla4r8SBNG",
        "outputId": "a1913564-930e-4cec-ddd7-5b7b3afad4cd"
      },
      "execution_count": 251,
      "outputs": [
        {
          "output_type": "stream",
          "name": "stdout",
          "text": [
            "['1', '2', '3', '4', '5', '6', '7', '8', '9', '10']\n"
          ]
        }
      ]
    },
    {
      "cell_type": "code",
      "source": [
        "projetos_git = pagina_git.select('.lh-condensed .Link')\n",
        "\n",
        "projetos = []\n",
        "for projeto in projetos_git:\n",
        "  texto = projeto.get_text().strip().split()[2]\n",
        "  projetos.append(texto)\n",
        "\n",
        "print(projetos)\n"
      ],
      "metadata": {
        "colab": {
          "base_uri": "https://localhost:8080/"
        },
        "id": "yenCWbB6TUZo",
        "outputId": "8b954936-fda7-4a2b-a65d-5978d7a27be4"
      },
      "execution_count": 252,
      "outputs": [
        {
          "output_type": "stream",
          "name": "stdout",
          "text": [
            "['multipleWindow3dScene', 'rags', 'roadster', 'Awesome-Black-Friday-Cyber-Monday', 'live', 'clash-nyanpasu', 'GPTs', 'hot-tips', 'Fooocus', 'app-ideas', 'starrocks', 'botlib', 'GitHub-Chinese-Top-Charts', '1Panel', 'chatgpt_system_prompt', 'generative-models', 'Reactive-Resume', 'AI-For-Beginners', 'awesome-cpp', 'Black-Friday-Deals', 'spring-boot', 'windmill', 'Network-segmentation-cheat-sheet', 'TVBoxOSC', 'angular']\n"
          ]
        }
      ]
    },
    {
      "cell_type": "code",
      "source": [
        "stars_today_git = pagina_git.select('.float-sm-right')\n",
        "\n",
        "stars_today = []\n",
        "for star_today in stars_today_git:\n",
        "  texto = star_today.get_text().strip().replace(' stars today','').replace(',','')\n",
        "  stars_today.append(texto)\n",
        "\n",
        "print(stars_today)"
      ],
      "metadata": {
        "colab": {
          "base_uri": "https://localhost:8080/"
        },
        "id": "lK_YFXuqYitV",
        "outputId": "1ca3b3dc-ae5a-4d2a-e81f-f5c9189299d7"
      },
      "execution_count": 226,
      "outputs": [
        {
          "output_type": "stream",
          "name": "stdout",
          "text": [
            "['1980', '80', '172', '174', '191', '939', '553', '162', '168', '231', '134', '174', '341', '54', '63', '897', '223', '144', '139', '26', '82', '212', '38', '75', '123']\n"
          ]
        }
      ]
    },
    {
      "cell_type": "code",
      "source": [
        "forks_git = pagina_git.select('.Link--muted+ .Link--muted')\n",
        "\n",
        "forks = []\n",
        "for fork in forks_git:\n",
        "  texto = fork.get_text().strip('\\n\\n\\n\\n').replace('        ','').replace(',','')\n",
        "  forks.append(texto)\n",
        "\n",
        "print(forks)"
      ],
      "metadata": {
        "colab": {
          "base_uri": "https://localhost:8080/"
        },
        "id": "QcwTd6sXcIkE",
        "outputId": "98ce1bd8-9b56-4d78-ab29-dcc428d747f7"
      },
      "execution_count": 225,
      "outputs": [
        {
          "output_type": "stream",
          "name": "stdout",
          "text": [
            "['788', '129', '133', '724', '2014', '173', '378', '56', '1367', '8779', '1315', '26', '9769', '1154', '150', '1588', '1626', '3559', '7442', '307', '39765', '245', '228', '4488', '24744']\n"
          ]
        }
      ]
    },
    {
      "cell_type": "code",
      "source": [
        "stars_git=pagina_git.select('.Link--muted:nth-child(1) , .ml-0+ .mr-3')\n",
        "stars=[]\n",
        "\n",
        "for star in stars_git:\n",
        "  texto = star.get_text().strip().replace(',','.')\n",
        "  stars.append(texto)\n",
        "\n",
        "print(stars)"
      ],
      "metadata": {
        "colab": {
          "base_uri": "https://localhost:8080/"
        },
        "id": "W81llqabgeBi",
        "outputId": "180836e3-6278-43ab-a139-b64f77f81fb5"
      },
      "execution_count": 155,
      "outputs": [
        {
          "output_type": "stream",
          "name": "stdout",
          "text": [
            "['5.286', '1.077', '539', '3.561', '15.282', '1.843', '1.780', '521', '17.294', '68.785', '6.013', '438', '69.131', '12.830', '898', '13.601', '13.221', '21.320', '51.091', '1.549', '70.379', '6.834', '2.589', '5.805', '92.394']\n"
          ]
        }
      ]
    },
    {
      "cell_type": "code",
      "source": [
        "languages_git = pagina_git.select('.color-fg-muted.mt-2')\n",
        "\n",
        "languages = []\n",
        "for language in languages_git:\n",
        "  texto = language.find('span', itemprop='programmingLanguage')\n",
        "  languages.append(texto)\n",
        "\n",
        "for linha in range(len(languages)):\n",
        "  if languages[linha] is None:\n",
        "    languages[linha] = 'NaN'\n",
        "  else:\n",
        "    languages[linha] = languages[linha].get_text()\n",
        "\n",
        "print(languages)\n"
      ],
      "metadata": {
        "colab": {
          "base_uri": "https://localhost:8080/"
        },
        "id": "DFu9ciPkXKwc",
        "outputId": "b4973948-1172-451e-cc51-ee4581432a3e"
      },
      "execution_count": 212,
      "outputs": [
        {
          "output_type": "stream",
          "name": "stdout",
          "text": [
            "['JavaScript', 'Python', 'NaN', 'NaN', 'JavaScript', 'TypeScript', 'NaN', 'HTML', 'Python', 'NaN', 'Java', 'C', 'Java', 'Go', 'Shell', 'Python', 'TypeScript', 'Jupyter Notebook', 'NaN', 'Swift', 'Java', 'JavaScript', 'NaN', 'Java', 'TypeScript']\n"
          ]
        }
      ]
    },
    {
      "cell_type": "code",
      "source": [
        "#Após extração de todos os dados solicitados, será estruturando o arquivo csv\n",
        "\n",
        "cabecalho = ['ranking','project','language','stars','stars_today','forks']\n",
        "conteudo = []\n",
        "\n",
        "for i in range(0,10,1):\n",
        "  linha = [ranking_git[i],projetos[i],languages[i],stars[i],stars_today[i],forks[i]]\n",
        "  conteudo.append(linha)\n",
        "print(conteudo)"
      ],
      "metadata": {
        "colab": {
          "base_uri": "https://localhost:8080/"
        },
        "id": "dC90P7X2tupx",
        "outputId": "ad3fd6dd-0738-448a-8461-41b0188d3eab"
      },
      "execution_count": 233,
      "outputs": [
        {
          "output_type": "stream",
          "name": "stdout",
          "text": [
            "[['1', 'multipleWindow3dScene', 'JavaScript', '5.286', '1980', '788'], ['2', 'rags', 'Python', '1.077', '80', '129'], ['3', 'roadster', 'NaN', '539', '172', '133'], ['4', 'Awesome-Black-Friday-Cyber-Monday', 'NaN', '3.561', '174', '724'], ['5', 'live', 'JavaScript', '15.282', '191', '2014'], ['6', 'clash-nyanpasu', 'TypeScript', '1.843', '939', '173'], ['7', 'GPTs', 'NaN', '1.780', '553', '378'], ['8', 'hot-tips', 'HTML', '521', '162', '56'], ['9', 'Fooocus', 'Python', '17.294', '168', '1367'], ['10', 'app-ideas', 'NaN', '68.785', '231', '8779']]\n"
          ]
        }
      ]
    },
    {
      "cell_type": "code",
      "source": [
        "#Criação do arquivo CSV\n",
        "with open(file='github.csv',mode='w',encoding='utf8') as arquivo:\n",
        "  escritor = csv.writer(arquivo,delimiter=';')\n",
        "  escritor.writerow(cabecalho)\n",
        "  escritor.writerows(conteudo)\n",
        "  print('Arquivo CSV com o top 10 Trending do Github gerado com sucesso')"
      ],
      "metadata": {
        "colab": {
          "base_uri": "https://localhost:8080/"
        },
        "id": "GHHGV5_e3IKf",
        "outputId": "836de316-98fe-4217-9d3c-2707524f65fb"
      },
      "execution_count": 236,
      "outputs": [
        {
          "output_type": "stream",
          "name": "stdout",
          "text": [
            "Arquivo CSV com o top 10 Trending do Github gerado com sucesso\n"
          ]
        }
      ]
    }
  ]
}